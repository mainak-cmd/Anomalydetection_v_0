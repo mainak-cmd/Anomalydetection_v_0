{
 "cells": [
  {
   "cell_type": "code",
   "execution_count": 4,
   "id": "d8a6164c-662c-431a-87d7-2c8af0da4a50",
   "metadata": {},
   "outputs": [],
   "source": [
    "import numpy as np\n",
    "import pandas as pd\n",
    "import matplotlib.pyplot as plt\n",
    "import warnings\n",
    "from AnamolayDetection import anamoly_detection\n",
    "from sklearn.preprocessing import MinMaxScaler\n",
    "from sklearn.metrics import silhouette_score, davies_bouldin_score\n",
    "import numpy as np\n",
    "from scipy.stats import gaussian_kde\n",
    "warnings.filterwarnings('ignore')\n",
    "import heapq"
   ]
  },
  {
   "cell_type": "markdown",
   "id": "0f126f37",
   "metadata": {},
   "source": [
    "AIM"
   ]
  },
  {
   "cell_type": "markdown",
   "id": "c36727d9",
   "metadata": {},
   "source": [
    "this approach calculates centroids for both fraudulent and non-fraudulent data, determines the distances between these centroids, and uses these distances to find the angle between vectors. The angle is then used to estimate the likelihood of a transaction being fraudulent."
   ]
  },
  {
   "cell_type": "code",
   "execution_count": 158,
   "id": "e8585ac3-5000-4123-ba7d-0edb2b2da7b7",
   "metadata": {},
   "outputs": [],
   "source": [
    "path='fraudTrain.csv'\n"
   ]
  },
  {
   "cell_type": "markdown",
   "id": "ab9cadd2",
   "metadata": {},
   "source": [
    "                                            ### Preprocess Data ##"
   ]
  },
  {
   "cell_type": "markdown",
   "id": "7d8eecf5",
   "metadata": {},
   "source": [
    "Create a function that accepts parameters for the number of samples and a random state, and returns a dataset categorized into two segments: fraud and non-fraud, prior to proceeding with clustering."
   ]
  },
  {
   "cell_type": "code",
   "execution_count": 159,
   "id": "3925977b-eba9-4955-b1c2-ec72cbf10b7e",
   "metadata": {},
   "outputs": [],
   "source": [
    "def data_point(sample,random):\n",
    "    online_retail_data=pd.read_csv(path).sample(n=sample, random_state=random)\n",
    "    online_retail_data.drop(['Unnamed: 0','first','last'],axis=1,inplace=True)\n",
    "    online_retail_data['location_detail'] = online_retail_data.apply(lambda row: f\"{row['state']}{row['city']}{row['street']}{row['zip']}{row['lat']}{row['long']}\", axis=1)\n",
    "    online_retail_data.drop(['street', 'city', 'state', 'zip', 'lat', 'long','merch_lat','merch_long'],axis=1,inplace=True)\n",
    "    online_retail_data['dob'] = pd.to_datetime(online_retail_data['dob'])\n",
    "    today = pd.to_datetime('today')\n",
    "    online_retail_data['age']=pd.to_timedelta(today-online_retail_data['dob']).dt.days/365\n",
    "    only_fraud=online_retail_data[['location_detail','city_pop','category','amt','age','gender','is_fraud']]\n",
    "    frequency_1= only_fraud['location_detail'].value_counts()\n",
    "    frequency_2= only_fraud['category'].value_counts()\n",
    "    only_fraud['location_detail'] = only_fraud['location_detail'].map(frequency_1)\n",
    "    only_fraud['category'] = only_fraud['category'].map(frequency_2)\n",
    "    gender_map = {'M': 0, 'F': 1}\n",
    "    only_fraud['gender'] = only_fraud['gender'].map(gender_map)\n",
    "    only_non_fraud = only_fraud[only_fraud['is_fraud'] == 0]\n",
    "    only_fraud = only_fraud[only_fraud['is_fraud'] == 1]\n",
    "    return only_non_fraud ,only_fraud "
   ]
  },
  {
   "cell_type": "markdown",
   "id": "4cf32aae",
   "metadata": {},
   "source": [
    "Train "
   ]
  },
  {
   "cell_type": "code",
   "execution_count": 316,
   "id": "467d8366",
   "metadata": {},
   "outputs": [],
   "source": [
    "n=6000"
   ]
  },
  {
   "cell_type": "code",
   "execution_count": 317,
   "id": "732a2a5b-a2b3-4f66-99e0-457c1c7cd22b",
   "metadata": {},
   "outputs": [],
   "source": [
    "non_fa,fa= data_point(n,20)"
   ]
  },
  {
   "cell_type": "code",
   "execution_count": 371,
   "id": "f08d74d7",
   "metadata": {},
   "outputs": [
    {
     "name": "stdout",
     "output_type": "stream",
     "text": [
      "0.0012\n"
     ]
    }
   ],
   "source": [
    "fa.shape[1]/n\n",
    "rounded_result = round(fa.shape[1]/n, 4)\n",
    "print(rounded_result)"
   ]
  },
  {
   "cell_type": "markdown",
   "id": "fa9ba56d",
   "metadata": {},
   "source": [
    "Train "
   ]
  },
  {
   "cell_type": "markdown",
   "id": "781fcf48",
   "metadata": {},
   "source": [
    "Apply MinMax scaling to normalize the data between 1 and -1. This ensures that no single feature disproportionately influences the distance-based algorithm, promoting balanced model performance.Addressing or removing all null values is also crucial."
   ]
  },
  {
   "cell_type": "code",
   "execution_count": 319,
   "id": "491cc2af",
   "metadata": {},
   "outputs": [],
   "source": [
    "def pre_process(data):\n",
    "    only_fraud_f_numeric = data .select_dtypes(include=['float64', 'int64'])\n",
    "    scaler = MinMaxScaler(feature_range=(0, 1))\n",
    "    # Scale the features in the non-fraud training set and drop any NaN values\n",
    "    only_fraud_f_scaled = scaler.fit_transform(only_fraud_f_numeric)\n",
    "    only_fraud_f_scaled = pd.DataFrame(only_fraud_f_scaled, columns=only_fraud_f_numeric.columns)\n",
    "    only_fraud_f_scaled.dropna(inplace=True)\n",
    "    only_fraud_f_scaled.reset_index(drop=True, inplace=True)\n",
    "    return only_fraud_f_scaled\n",
    "    \n"
   ]
  },
  {
   "cell_type": "markdown",
   "id": "13ce1a9b",
   "metadata": {},
   "source": [
    "To separate out fraudulent and non-fraudulent data in a dataset, you would typically filter the data based on a column or feature that indicates whether a transaction is fraudulent or not. Assuming you have a DataFrame df with a column named fraud_flag where 1 indicates fraud and 0 indicates non-fraud, here's how you can separate the data:"
   ]
  },
  {
   "cell_type": "code",
   "execution_count": 320,
   "id": "8f2bafe5",
   "metadata": {},
   "outputs": [],
   "source": [
    "only_fraud_scaled=pre_process(fa)\n",
    "non_fraud_scaled=pre_process(non_fa)"
   ]
  },
  {
   "cell_type": "markdown",
   "id": "8c50d9ca",
   "metadata": {},
   "source": [
    "To combine the separated fraud and non-fraud datasets back together and remove the fraud_flag column before validating the model"
   ]
  },
  {
   "cell_type": "code",
   "execution_count": 337,
   "id": "a2fd95c7",
   "metadata": {},
   "outputs": [
    {
     "name": "stdout",
     "output_type": "stream",
     "text": [
      "   location_detail  city_pop  category       amt       age  gender  is_fraud\n",
      "0         0.318182  0.007527  0.744186  0.004421  0.303606     1.0       0.0\n",
      "1         0.318182  0.231646  0.595349  0.014790  0.438538     0.0       0.0\n",
      "2         0.500000  0.004610  0.744186  0.021825  0.540889     0.0       0.0\n",
      "3         1.000000  0.002623  0.497674  0.013680  0.204019     1.0       0.0\n",
      "4         0.590909  0.003459  0.876744  0.020021  0.337962     1.0       0.0\n"
     ]
    }
   ],
   "source": [
    "fraud_subset = only_fraud_scaled.head(5)\n",
    "combined_df_tr = pd.concat([fraud_subset, non_fraud_scaled])\n",
    "# Shuffle the combined DataFrame\n",
    "shuffled_df_tr = combined_df_tr.sample(frac=1, random_state=42).reset_index(drop=True)\n",
    "# Optionally, print the first few rows to verify\n",
    "print(shuffled_df_tr.head())"
   ]
  },
  {
   "cell_type": "code",
   "execution_count": 338,
   "id": "e99f409f-7fdb-40fa-82e4-a639aa89124f",
   "metadata": {},
   "outputs": [],
   "source": [
    "clusterer = anamoly_detection.ClusterCentroid(max_iter=20, cores=4, timeout=300)"
   ]
  },
  {
   "cell_type": "markdown",
   "id": "090c4e53",
   "metadata": {},
   "source": [
    "\n",
    "To enhance performance, we should tune the hyperparameters max_iter=20, cores=4, and timeout=300 in the clusterer = anomaly_detection.ClusterCentroid(max_iter=20, cores=4, timeout=300) configuration."
   ]
  },
  {
   "cell_type": "markdown",
   "id": "0d2090a1",
   "metadata": {},
   "source": [
    "Processs"
   ]
  },
  {
   "cell_type": "markdown",
   "id": "5b75f987",
   "metadata": {},
   "source": [
    "Compute Centroids: Calculate the centroid for each set of data points. This involves finding the average position of all points in each set (fraudulent and non-fraudulent).\n",
    "\n",
    "Calculate Distances:\n",
    "\n",
    "Distance Between Centroids: Determine the distance between the centroids of the fraudulent and non-fraudulent data sets.\n",
    "Distance Within Each Centroid: Calculate the distance of each data point from its respective centroid (for both fraud and non-fraud sets).\n",
    "\n",
    "Form Vectors:\n",
    "\n",
    "Within-Set Vector: Construct vectors representing the distances of individual points from their own centroid.\n",
    "Between-Centroid Vector: Form a vector representing the distance between the centroids of the two sets.\n",
    "\n",
    "Calculate Angle:\n",
    "\n",
    "Find the angle between the vectors representing the distances of individual points from their centroids and the vector representing the distance between the centroids.\n",
    "This angle can be computed using the dot product formula and the arccosine function.\n",
    "\n",
    "Estimate Fraud Probability:\n",
    "\n",
    "Normalize the angle by dividing it by 360 degrees to estimate the probability of fraud.(depends on the hyper parameter tuning and sample size)"
   ]
  },
  {
   "cell_type": "code",
   "execution_count": 357,
   "id": "27be75a7",
   "metadata": {},
   "outputs": [],
   "source": [
    "\n",
    "non_fra=non_fraud_scaled.copy()\n",
    "non_fra['only_fraud']=1\n",
    "non_fra['not_fraud']=0\n",
    "fraud_test_1= non_fra.copy().drop(columns=['not_fraud'])\n",
    "non_fraud_test_1= non_fra.copy().drop(columns=['only_fraud'])\n",
    "centroids_data_fra_1,_ = clusterer.cluster_make(np.array(pre_process(fraud_test_1)))\n",
    "centroids_data_non_fra_1,_ = clusterer.cluster_make(np.array(pre_process(non_fraud_test_1)))\n",
    "try:\n",
    "    a_1=anamoly_detection.compare_distance(centroids_data_fra_1,centroids_data_fra_1)\n",
    "except:\n",
    "    a_1=[0]\n",
    "try:\n",
    "    b_1=anamoly_detection.compare_distance(centroids_data_non_fra_1,centroids_data_non_fra_1)\n",
    "except:\n",
    "    b_1=[0]\n",
    "try:\n",
    "    c_1=anamoly_detection.compare_distance(centroids_data_non_fra_1,centroids_data_fra_1)\n",
    "except:\n",
    "    c_1=[0]\n",
    "difference_angle_a=anamoly_detection.angle_between_group(b_1,c_1)-anamoly_detection.angle_between_group(a_1,c_1)"
   ]
  },
  {
   "cell_type": "code",
   "execution_count": 364,
   "id": "90cfc00a",
   "metadata": {},
   "outputs": [
    {
     "data": {
      "text/plain": [
       "1.9950100869728828"
      ]
     },
     "execution_count": 364,
     "metadata": {},
     "output_type": "execute_result"
    }
   ],
   "source": [
    "np.abs(difference_angle_a)"
   ]
  },
  {
   "cell_type": "code",
   "execution_count": 365,
   "id": "26924e2f",
   "metadata": {},
   "outputs": [],
   "source": [
    "non_fra=combined_df_tr.copy()\n",
    "non_fra['only_fraud']=1\n",
    "non_fra['not_fraud']=0\n",
    "fraud_test_1= non_fra.copy().drop(columns=['not_fraud'])\n",
    "non_fraud_test_1= non_fra.copy().drop(columns=['only_fraud'])\n",
    "centroids_data_fra_1,_ = clusterer.cluster_make(np.array(pre_process(fraud_test_1)))\n",
    "centroids_data_non_fra_1,_ = clusterer.cluster_make(np.array(pre_process(non_fraud_test_1)))\n",
    "a_1=anamoly_detection.compare_distance(centroids_data_fra_1,centroids_data_fra_1)\n",
    "b_1=anamoly_detection.compare_distance(centroids_data_non_fra_1,centroids_data_non_fra_1)\n",
    "c_1=anamoly_detection.compare_distance(centroids_data_non_fra_1,centroids_data_fra_1)\n",
    "difference_angle=anamoly_detection.angle_between_group(b_1,c_1)-anamoly_detection.angle_between_group(c_1,a_1)"
   ]
  },
  {
   "cell_type": "code",
   "execution_count": 370,
   "id": "97ddf1c7",
   "metadata": {},
   "outputs": [
    {
     "data": {
      "text/plain": [
       "0.015007597241323584"
      ]
     },
     "execution_count": 370,
     "metadata": {},
     "output_type": "execute_result"
    }
   ],
   "source": [
    "np.abs(difference_angle)/360"
   ]
  },
  {
   "cell_type": "markdown",
   "id": "d2e8a9a0",
   "metadata": {},
   "source": [
    "True indicates that the data contains anomalies, as a greater angle suggests the data is more heterogeneous it will true for minimum configuration."
   ]
  },
  {
   "cell_type": "code",
   "execution_count": 369,
   "id": "c9b31939",
   "metadata": {},
   "outputs": [
    {
     "data": {
      "text/plain": [
       "True"
      ]
     },
     "execution_count": 369,
     "metadata": {},
     "output_type": "execute_result"
    }
   ],
   "source": [
    "True if np.abs(difference_angle) > np.abs(difference_angle_a) else False"
   ]
  },
  {
   "cell_type": "code",
   "execution_count": 358,
   "id": "605d8113",
   "metadata": {},
   "outputs": [],
   "source": [
    "non_fra=only_fraud_scaled.copy()\n",
    "non_fra['only_fraud']=1\n",
    "non_fra['not_fraud']=0\n",
    "fraud_test_1= non_fra.copy().drop(columns=['not_fraud'])\n",
    "non_fraud_test_1= non_fra.copy().drop(columns=['only_fraud'])\n",
    "centroids_data_fra_1,_ = clusterer.cluster_make(np.array(pre_process(fraud_test_1)))\n",
    "centroids_data_non_fra_1,_ = clusterer.cluster_make(np.array(pre_process(non_fraud_test_1)))\n",
    "a_1=anamoly_detection.compare_distance(centroids_data_fra_1,centroids_data_fra_1)\n",
    "b_1=anamoly_detection.compare_distance(centroids_data_non_fra_1,centroids_data_non_fra_1)\n",
    "c_1=anamoly_detection.compare_distance(centroids_data_non_fra_1,centroids_data_fra_1)\n",
    "difference_angle_f=np.abs(anamoly_detection.angle_between_group(b_1,c_1)-anamoly_detection.angle_between_group(a_1,c_1))"
   ]
  },
  {
   "cell_type": "markdown",
   "id": "d0a44916",
   "metadata": {},
   "source": [
    "By comparing the angle between the vectors representing fraudulent and non-fraudulent data points, and observing that this value lies between the angles for all fraudulent and all non-fraudulent data, we can infer that the classification or anomaly detection is likely accurate."
   ]
  },
  {
   "cell_type": "code",
   "execution_count": 366,
   "id": "8b4ffd28",
   "metadata": {},
   "outputs": [
    {
     "data": {
      "image/png": "[encoded data removed]",
      "text/plain": [
       "<Figure size 1000x800 with 1 Axes>"
      ]
     },
     "metadata": {},
     "output_type": "display_data"
    }
   ],
   "source": [
    "import numpy as np\n",
    "import seaborn as sns\n",
    "import matplotlib.pyplot as plt\n",
    "import pandas as pd\n",
    "\n",
    "# Replace with your actual values\n",
    "difference_angle_a = np.abs(difference_angle_a)/360 # Example value\n",
    "difference_angle_f =difference_angle_f/360 # Example value\n",
    "\n",
    "# Generate sample data\n",
    "np.random.seed(0)\n",
    "x = np.random.uniform(difference_angle_a, difference_angle_f, 1000)  # 1000 samples in the specified range\n",
    "y = np.random.uniform(0, 1, 1000)  # 1000 samples in the range [0, 1]\n",
    "\n",
    "# Create a DataFrame\n",
    "data = pd.DataFrame({'x': x, 'y': y})\n",
    "\n",
    "# Create a KDE plot with improved color depth\n",
    "plt.figure(figsize=(10, 8))\n",
    "sns.kdeplot(data=data, x='x', y='y', cmap='coolwarm', fill=True, thresh=0.05, alpha=0.7, linewidth=2)\n",
    "\n",
    "# Set axis limits\n",
    "plt.xlim(difference_angle_a, difference_angle_f)\n",
    "plt.ylim(0, 1)\n",
    "\n",
    "# Add titles and labels\n",
    "plt.title('Bivariate KDE Plot with Enhanced Color Depth')\n",
    "plt.xlabel('X-axis')\n",
    "plt.ylabel('Y-axis')\n",
    "\n",
    "# Show the plot\n",
    "plt.show()\n"
   ]
  },
  {
   "cell_type": "markdown",
   "id": "4e059444",
   "metadata": {},
   "source": [
    "We can estimate that the fraud percentage lies between 0.0045 and 0.0050. This interpretation is reasonably accurate, given that the actual data shows a fraud rate of 0.0012. Further tuning of the hyperparameters could provide a more granular and precise estimate."
   ]
  },
  {
   "cell_type": "code",
   "execution_count": null,
   "id": "3c41dbfd",
   "metadata": {},
   "outputs": [],
   "source": []
  }
 ],
 "metadata": {
  "kernelspec": {
   "display_name": "Python 3 (ipykernel)",
   "language": "python",
   "name": "python3"
  },
  "language_info": {
   "codemirror_mode": {
    "name": "ipython",
    "version": 3
   },
   "file_extension": ".py",
   "mimetype": "text/x-python",
   "name": "python",
   "nbconvert_exporter": "python",
   "pygments_lexer": "ipython3",
   "version": "3.11.3"
  }
 },
 "nbformat": 4,
 "nbformat_minor": 5
}
